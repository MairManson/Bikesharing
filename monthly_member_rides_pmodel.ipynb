{
  "nbformat": 4,
  "nbformat_minor": 0,
  "metadata": {
    "orig_nbformat": 4,
    "language_info": {
      "name": "python",
      "version": "3.7.10",
      "mimetype": "text/x-python",
      "codemirror_mode": {
        "name": "ipython",
        "version": 3
      },
      "pygments_lexer": "ipython3",
      "nbconvert_exporter": "python",
      "file_extension": ".py"
    },
    "kernelspec": {
      "name": "python3",
      "display_name": "Python 3.7.10 64-bit ('mlenv': conda)"
    },
    "interpreter": {
      "hash": "2f87159d2ba226b00e2234538aef9d434a5718a04c8a066af71d694912e12fbd"
    },
    "colab": {
      "name": "member_rides_pmodel.ipynb",
      "provenance": [],
      "collapsed_sections": [],
      "include_colab_link": true
    },
    "widgets": {
      "application/vnd.jupyter.widget-state+json": {
        "41b5a59344b842a6910d3f9d82cce82a": {
          "model_module": "@jupyter-widgets/controls",
          "model_name": "HBoxModel",
          "state": {
            "_view_name": "HBoxView",
            "_dom_classes": [],
            "_model_name": "HBoxModel",
            "_view_module": "@jupyter-widgets/controls",
            "_model_module_version": "1.5.0",
            "_view_count": null,
            "_view_module_version": "1.5.0",
            "box_style": "",
            "layout": "IPY_MODEL_2b87d2015ce944c2b33195629dff37f6",
            "_model_module": "@jupyter-widgets/controls",
            "children": [
              "IPY_MODEL_9a41b317126f471c96038303e710c92f",
              "IPY_MODEL_ea05c9cf20a648bdacdf4f414930c91d"
            ]
          }
        },
        "2b87d2015ce944c2b33195629dff37f6": {
          "model_module": "@jupyter-widgets/base",
          "model_name": "LayoutModel",
          "state": {
            "_view_name": "LayoutView",
            "grid_template_rows": null,
            "right": null,
            "justify_content": null,
            "_view_module": "@jupyter-widgets/base",
            "overflow": null,
            "_model_module_version": "1.2.0",
            "_view_count": null,
            "flex_flow": null,
            "width": null,
            "min_width": null,
            "border": null,
            "align_items": null,
            "bottom": null,
            "_model_module": "@jupyter-widgets/base",
            "top": null,
            "grid_column": null,
            "overflow_y": null,
            "overflow_x": null,
            "grid_auto_flow": null,
            "grid_area": null,
            "grid_template_columns": null,
            "flex": null,
            "_model_name": "LayoutModel",
            "justify_items": null,
            "grid_row": null,
            "max_height": null,
            "align_content": null,
            "visibility": null,
            "align_self": null,
            "height": null,
            "min_height": null,
            "padding": null,
            "grid_auto_rows": null,
            "grid_gap": null,
            "max_width": null,
            "order": null,
            "_view_module_version": "1.2.0",
            "grid_template_areas": null,
            "object_position": null,
            "object_fit": null,
            "grid_auto_columns": null,
            "margin": null,
            "display": null,
            "left": null
          }
        },
        "9a41b317126f471c96038303e710c92f": {
          "model_module": "@jupyter-widgets/controls",
          "model_name": "FloatProgressModel",
          "state": {
            "_view_name": "ProgressView",
            "style": "IPY_MODEL_0f3387f25d48419aa15e35f21a8e0203",
            "_dom_classes": [],
            "description": "100%",
            "_model_name": "FloatProgressModel",
            "bar_style": "success",
            "max": 24,
            "_view_module": "@jupyter-widgets/controls",
            "_model_module_version": "1.5.0",
            "value": 24,
            "_view_count": null,
            "_view_module_version": "1.5.0",
            "orientation": "horizontal",
            "min": 0,
            "description_tooltip": null,
            "_model_module": "@jupyter-widgets/controls",
            "layout": "IPY_MODEL_afc61cd2f5bc4d60933a724ae790cc82"
          }
        },
        "ea05c9cf20a648bdacdf4f414930c91d": {
          "model_module": "@jupyter-widgets/controls",
          "model_name": "HTMLModel",
          "state": {
            "_view_name": "HTMLView",
            "style": "IPY_MODEL_95b689f447624b928ede5ce38f218b87",
            "_dom_classes": [],
            "description": "",
            "_model_name": "HTMLModel",
            "placeholder": "​",
            "_view_module": "@jupyter-widgets/controls",
            "_model_module_version": "1.5.0",
            "value": " 24/24 [02:31&lt;00:00,  6.32s/it]",
            "_view_count": null,
            "_view_module_version": "1.5.0",
            "description_tooltip": null,
            "_model_module": "@jupyter-widgets/controls",
            "layout": "IPY_MODEL_6dfd866b38ed4fb7810a4af6a69c3d98"
          }
        },
        "0f3387f25d48419aa15e35f21a8e0203": {
          "model_module": "@jupyter-widgets/controls",
          "model_name": "ProgressStyleModel",
          "state": {
            "_view_name": "StyleView",
            "_model_name": "ProgressStyleModel",
            "description_width": "initial",
            "_view_module": "@jupyter-widgets/base",
            "_model_module_version": "1.5.0",
            "_view_count": null,
            "_view_module_version": "1.2.0",
            "bar_color": null,
            "_model_module": "@jupyter-widgets/controls"
          }
        },
        "afc61cd2f5bc4d60933a724ae790cc82": {
          "model_module": "@jupyter-widgets/base",
          "model_name": "LayoutModel",
          "state": {
            "_view_name": "LayoutView",
            "grid_template_rows": null,
            "right": null,
            "justify_content": null,
            "_view_module": "@jupyter-widgets/base",
            "overflow": null,
            "_model_module_version": "1.2.0",
            "_view_count": null,
            "flex_flow": null,
            "width": null,
            "min_width": null,
            "border": null,
            "align_items": null,
            "bottom": null,
            "_model_module": "@jupyter-widgets/base",
            "top": null,
            "grid_column": null,
            "overflow_y": null,
            "overflow_x": null,
            "grid_auto_flow": null,
            "grid_area": null,
            "grid_template_columns": null,
            "flex": null,
            "_model_name": "LayoutModel",
            "justify_items": null,
            "grid_row": null,
            "max_height": null,
            "align_content": null,
            "visibility": null,
            "align_self": null,
            "height": null,
            "min_height": null,
            "padding": null,
            "grid_auto_rows": null,
            "grid_gap": null,
            "max_width": null,
            "order": null,
            "_view_module_version": "1.2.0",
            "grid_template_areas": null,
            "object_position": null,
            "object_fit": null,
            "grid_auto_columns": null,
            "margin": null,
            "display": null,
            "left": null
          }
        },
        "95b689f447624b928ede5ce38f218b87": {
          "model_module": "@jupyter-widgets/controls",
          "model_name": "DescriptionStyleModel",
          "state": {
            "_view_name": "StyleView",
            "_model_name": "DescriptionStyleModel",
            "description_width": "",
            "_view_module": "@jupyter-widgets/base",
            "_model_module_version": "1.5.0",
            "_view_count": null,
            "_view_module_version": "1.2.0",
            "_model_module": "@jupyter-widgets/controls"
          }
        },
        "6dfd866b38ed4fb7810a4af6a69c3d98": {
          "model_module": "@jupyter-widgets/base",
          "model_name": "LayoutModel",
          "state": {
            "_view_name": "LayoutView",
            "grid_template_rows": null,
            "right": null,
            "justify_content": null,
            "_view_module": "@jupyter-widgets/base",
            "overflow": null,
            "_model_module_version": "1.2.0",
            "_view_count": null,
            "flex_flow": null,
            "width": null,
            "min_width": null,
            "border": null,
            "align_items": null,
            "bottom": null,
            "_model_module": "@jupyter-widgets/base",
            "top": null,
            "grid_column": null,
            "overflow_y": null,
            "overflow_x": null,
            "grid_auto_flow": null,
            "grid_area": null,
            "grid_template_columns": null,
            "flex": null,
            "_model_name": "LayoutModel",
            "justify_items": null,
            "grid_row": null,
            "max_height": null,
            "align_content": null,
            "visibility": null,
            "align_self": null,
            "height": null,
            "min_height": null,
            "padding": null,
            "grid_auto_rows": null,
            "grid_gap": null,
            "max_width": null,
            "order": null,
            "_view_module_version": "1.2.0",
            "grid_template_areas": null,
            "object_position": null,
            "object_fit": null,
            "grid_auto_columns": null,
            "margin": null,
            "display": null,
            "left": null
          }
        }
      }
    }
  },
  "cells": [
    {
      "cell_type": "markdown",
      "metadata": {
        "id": "view-in-github",
        "colab_type": "text"
      },
      "source": [
        "<a href=\"https://colab.research.google.com/github/MairManson/Bikesharing/blob/main/monthly_member_rides_pmodel.ipynb\" target=\"_parent\"><img src=\"https://colab.research.google.com/assets/colab-badge.svg\" alt=\"Open In Colab\"/></a>"
      ]
    },
    {
      "cell_type": "code",
      "metadata": {
        "id": "75QlIgeim2fw"
      },
      "source": [
        "# Import Dependencies\n",
        "import pandas as pd\n",
        "import sklearn\n",
        "from sklearn.preprocessing import LabelEncoder\n",
        "from sklearn.preprocessing import OneHotEncoder\n",
        "from sklearn.model_selection import train_test_split\n",
        "from fbprophet import Prophet\n",
        "from matplotlib import pyplot as plt\n",
        "plt.style.use('fivethirtyeight')"
      ],
      "execution_count": 1,
      "outputs": []
    },
    {
      "cell_type": "code",
      "metadata": {
        "colab": {
          "base_uri": "https://localhost:8080/"
        },
        "id": "QJML5YwDnAWv",
        "outputId": "d47c19a8-4dd6-461f-af1f-39cd3eb3ec0f"
      },
      "source": [
        "from google.colab import drive\n",
        "drive.mount('/content/drive')"
      ],
      "execution_count": 2,
      "outputs": [
        {
          "output_type": "stream",
          "text": [
            "Mounted at /content/drive\n"
          ],
          "name": "stdout"
        }
      ]
    },
    {
      "cell_type": "code",
      "metadata": {
        "colab": {
          "base_uri": "https://localhost:8080/",
          "height": 359
        },
        "id": "5xGdlvORm2fy",
        "outputId": "cf18c399-787c-44aa-d6b2-4742fb2bccb9"
      },
      "source": [
        "# Load data\n",
        "data = '/content/drive/MyDrive/Colab Notebooks/member_rides.csv'\n",
        "#df_train= pd.read_csv(data)\n",
        "#file_path = Path('./Resources/Data/member_rides.csv')\n",
        "member_rides_df = pd.read_csv(data)\n",
        "member_rides_df.head(10)"
      ],
      "execution_count": 3,
      "outputs": [
        {
          "output_type": "execute_result",
          "data": {
            "text/html": [
              "<div>\n",
              "<style scoped>\n",
              "    .dataframe tbody tr th:only-of-type {\n",
              "        vertical-align: middle;\n",
              "    }\n",
              "\n",
              "    .dataframe tbody tr th {\n",
              "        vertical-align: top;\n",
              "    }\n",
              "\n",
              "    .dataframe thead th {\n",
              "        text-align: right;\n",
              "    }\n",
              "</style>\n",
              "<table border=\"1\" class=\"dataframe\">\n",
              "  <thead>\n",
              "    <tr style=\"text-align: right;\">\n",
              "      <th></th>\n",
              "      <th>ds</th>\n",
              "      <th>y</th>\n",
              "    </tr>\n",
              "  </thead>\n",
              "  <tbody>\n",
              "    <tr>\n",
              "      <th>0</th>\n",
              "      <td>2010-09-20 11:27:04</td>\n",
              "      <td>1</td>\n",
              "    </tr>\n",
              "    <tr>\n",
              "      <th>1</th>\n",
              "      <td>2010-09-20 11:41:22</td>\n",
              "      <td>1</td>\n",
              "    </tr>\n",
              "    <tr>\n",
              "      <th>2</th>\n",
              "      <td>2010-09-20 12:05:37</td>\n",
              "      <td>1</td>\n",
              "    </tr>\n",
              "    <tr>\n",
              "      <th>3</th>\n",
              "      <td>2010-09-20 12:06:05</td>\n",
              "      <td>1</td>\n",
              "    </tr>\n",
              "    <tr>\n",
              "      <th>4</th>\n",
              "      <td>2010-09-20 12:10:43</td>\n",
              "      <td>1</td>\n",
              "    </tr>\n",
              "    <tr>\n",
              "      <th>5</th>\n",
              "      <td>2010-09-20 12:14:27</td>\n",
              "      <td>1</td>\n",
              "    </tr>\n",
              "    <tr>\n",
              "      <th>6</th>\n",
              "      <td>2010-09-20 12:15:26</td>\n",
              "      <td>1</td>\n",
              "    </tr>\n",
              "    <tr>\n",
              "      <th>7</th>\n",
              "      <td>2010-09-20 12:16:36</td>\n",
              "      <td>1</td>\n",
              "    </tr>\n",
              "    <tr>\n",
              "      <th>8</th>\n",
              "      <td>2010-09-20 12:18:38</td>\n",
              "      <td>1</td>\n",
              "    </tr>\n",
              "    <tr>\n",
              "      <th>9</th>\n",
              "      <td>2010-09-20 12:19:46</td>\n",
              "      <td>1</td>\n",
              "    </tr>\n",
              "  </tbody>\n",
              "</table>\n",
              "</div>"
            ],
            "text/plain": [
              "                    ds  y\n",
              "0  2010-09-20 11:27:04  1\n",
              "1  2010-09-20 11:41:22  1\n",
              "2  2010-09-20 12:05:37  1\n",
              "3  2010-09-20 12:06:05  1\n",
              "4  2010-09-20 12:10:43  1\n",
              "5  2010-09-20 12:14:27  1\n",
              "6  2010-09-20 12:15:26  1\n",
              "7  2010-09-20 12:16:36  1\n",
              "8  2010-09-20 12:18:38  1\n",
              "9  2010-09-20 12:19:46  1"
            ]
          },
          "metadata": {
            "tags": []
          },
          "execution_count": 3
        }
      ]
    },
    {
      "cell_type": "code",
      "metadata": {
        "colab": {
          "base_uri": "https://localhost:8080/"
        },
        "id": "3WnJhv7Em2fz",
        "outputId": "84a14324-e9f6-4110-8691-989c90805cc1"
      },
      "source": [
        "member_rides_df.dtypes"
      ],
      "execution_count": 4,
      "outputs": [
        {
          "output_type": "execute_result",
          "data": {
            "text/plain": [
              "ds    object\n",
              "y      int64\n",
              "dtype: object"
            ]
          },
          "metadata": {
            "tags": []
          },
          "execution_count": 4
        }
      ]
    },
    {
      "cell_type": "code",
      "metadata": {
        "colab": {
          "base_uri": "https://localhost:8080/"
        },
        "id": "DImO4Ry_EBDo",
        "outputId": "299e97f5-fa34-4d86-8993-4ff54e2786fa"
      },
      "source": [
        "member_rides_df['y'].value_counts()"
      ],
      "execution_count": 5,
      "outputs": [
        {
          "output_type": "execute_result",
          "data": {
            "text/plain": [
              "1    22126756\n",
              "0     6269130\n",
              "Name: y, dtype: int64"
            ]
          },
          "metadata": {
            "tags": []
          },
          "execution_count": 5
        }
      ]
    },
    {
      "cell_type": "code",
      "metadata": {
        "id": "7o4vL_KKwCRJ"
      },
      "source": [
        "# Remove 'Casual-0' from 'y' column\n",
        "member_rides_df = member_rides_df[member_rides_df.y != 0]"
      ],
      "execution_count": 6,
      "outputs": []
    },
    {
      "cell_type": "code",
      "metadata": {
        "colab": {
          "base_uri": "https://localhost:8080/"
        },
        "id": "GjeVtAHGw6sv",
        "outputId": "96dd335b-1584-4a8c-c0db-a9f26368958c"
      },
      "source": [
        "member_rides_df['y'].value_counts()"
      ],
      "execution_count": 7,
      "outputs": [
        {
          "output_type": "execute_result",
          "data": {
            "text/plain": [
              "1    22126756\n",
              "Name: y, dtype: int64"
            ]
          },
          "metadata": {
            "tags": []
          },
          "execution_count": 7
        }
      ]
    },
    {
      "cell_type": "code",
      "metadata": {
        "id": "_mEQqo-8m2f0"
      },
      "source": [
        "# Convert 'ds' object to datetime data type\n",
        "member_rides_df['ds'] = pd.to_datetime(member_rides_df['ds'])"
      ],
      "execution_count": 8,
      "outputs": []
    },
    {
      "cell_type": "code",
      "metadata": {
        "id": "-Zq5hhbQm2f0",
        "colab": {
          "base_uri": "https://localhost:8080/"
        },
        "outputId": "2aadcf22-2aad-4fd4-d823-ceec1693e0d1"
      },
      "source": [
        "member_rides_df.dtypes"
      ],
      "execution_count": 9,
      "outputs": [
        {
          "output_type": "execute_result",
          "data": {
            "text/plain": [
              "ds    datetime64[ns]\n",
              "y              int64\n",
              "dtype: object"
            ]
          },
          "metadata": {
            "tags": []
          },
          "execution_count": 9
        }
      ]
    },
    {
      "cell_type": "code",
      "metadata": {
        "id": "NIrC3Ia1z_Wl"
      },
      "source": [
        "# Create Monthly bins\n",
        "#df1 = df.resample('M', on='Date').sum()  --- https://www.youtube.com/watch?v=l4dvMiSDBzs\n",
        "memberxmonth_df = member_rides_df.resample('M', on='ds').sum()"
      ],
      "execution_count": 10,
      "outputs": []
    },
    {
      "cell_type": "code",
      "metadata": {
        "colab": {
          "base_uri": "https://localhost:8080/",
          "height": 235
        },
        "id": "VwGJjxoe9LL6",
        "outputId": "89866206-a8cb-48d3-a058-9b7260bd9b3f"
      },
      "source": [
        "memberxmonth_df.head(5)"
      ],
      "execution_count": 11,
      "outputs": [
        {
          "output_type": "execute_result",
          "data": {
            "text/html": [
              "<div>\n",
              "<style scoped>\n",
              "    .dataframe tbody tr th:only-of-type {\n",
              "        vertical-align: middle;\n",
              "    }\n",
              "\n",
              "    .dataframe tbody tr th {\n",
              "        vertical-align: top;\n",
              "    }\n",
              "\n",
              "    .dataframe thead th {\n",
              "        text-align: right;\n",
              "    }\n",
              "</style>\n",
              "<table border=\"1\" class=\"dataframe\">\n",
              "  <thead>\n",
              "    <tr style=\"text-align: right;\">\n",
              "      <th></th>\n",
              "      <th>y</th>\n",
              "    </tr>\n",
              "    <tr>\n",
              "      <th>ds</th>\n",
              "      <th></th>\n",
              "    </tr>\n",
              "  </thead>\n",
              "  <tbody>\n",
              "    <tr>\n",
              "      <th>2010-09-30</th>\n",
              "      <td>2704</td>\n",
              "    </tr>\n",
              "    <tr>\n",
              "      <th>2010-10-31</th>\n",
              "      <td>24992</td>\n",
              "    </tr>\n",
              "    <tr>\n",
              "      <th>2010-11-30</th>\n",
              "      <td>38270</td>\n",
              "    </tr>\n",
              "    <tr>\n",
              "      <th>2010-12-31</th>\n",
              "      <td>25620</td>\n",
              "    </tr>\n",
              "    <tr>\n",
              "      <th>2011-01-31</th>\n",
              "      <td>34438</td>\n",
              "    </tr>\n",
              "  </tbody>\n",
              "</table>\n",
              "</div>"
            ],
            "text/plain": [
              "                y\n",
              "ds               \n",
              "2010-09-30   2704\n",
              "2010-10-31  24992\n",
              "2010-11-30  38270\n",
              "2010-12-31  25620\n",
              "2011-01-31  34438"
            ]
          },
          "metadata": {
            "tags": []
          },
          "execution_count": 11
        }
      ]
    },
    {
      "cell_type": "code",
      "metadata": {
        "colab": {
          "base_uri": "https://localhost:8080/",
          "height": 297
        },
        "id": "sEF15BScT46C",
        "outputId": "0e3b2dc6-c73f-4a9c-ed88-0651965cdcdd"
      },
      "source": [
        "# Create new column from 'index' --- https://datatofish.com/index-to-column-pandas-dataframe/\n",
        "memberxmonth_df.reset_index(inplace=True)\n",
        "memberxmonth_df = memberxmonth_df.rename(columns = {'ds':'ds'})\n",
        "memberxmonth_df.head(8)"
      ],
      "execution_count": 12,
      "outputs": [
        {
          "output_type": "execute_result",
          "data": {
            "text/html": [
              "<div>\n",
              "<style scoped>\n",
              "    .dataframe tbody tr th:only-of-type {\n",
              "        vertical-align: middle;\n",
              "    }\n",
              "\n",
              "    .dataframe tbody tr th {\n",
              "        vertical-align: top;\n",
              "    }\n",
              "\n",
              "    .dataframe thead th {\n",
              "        text-align: right;\n",
              "    }\n",
              "</style>\n",
              "<table border=\"1\" class=\"dataframe\">\n",
              "  <thead>\n",
              "    <tr style=\"text-align: right;\">\n",
              "      <th></th>\n",
              "      <th>ds</th>\n",
              "      <th>y</th>\n",
              "    </tr>\n",
              "  </thead>\n",
              "  <tbody>\n",
              "    <tr>\n",
              "      <th>0</th>\n",
              "      <td>2010-09-30</td>\n",
              "      <td>2704</td>\n",
              "    </tr>\n",
              "    <tr>\n",
              "      <th>1</th>\n",
              "      <td>2010-10-31</td>\n",
              "      <td>24992</td>\n",
              "    </tr>\n",
              "    <tr>\n",
              "      <th>2</th>\n",
              "      <td>2010-11-30</td>\n",
              "      <td>38270</td>\n",
              "    </tr>\n",
              "    <tr>\n",
              "      <th>3</th>\n",
              "      <td>2010-12-31</td>\n",
              "      <td>25620</td>\n",
              "    </tr>\n",
              "    <tr>\n",
              "      <th>4</th>\n",
              "      <td>2011-01-31</td>\n",
              "      <td>34438</td>\n",
              "    </tr>\n",
              "    <tr>\n",
              "      <th>5</th>\n",
              "      <td>2011-02-28</td>\n",
              "      <td>41326</td>\n",
              "    </tr>\n",
              "    <tr>\n",
              "      <th>6</th>\n",
              "      <td>2011-03-31</td>\n",
              "      <td>50382</td>\n",
              "    </tr>\n",
              "    <tr>\n",
              "      <th>7</th>\n",
              "      <td>2011-04-30</td>\n",
              "      <td>70781</td>\n",
              "    </tr>\n",
              "  </tbody>\n",
              "</table>\n",
              "</div>"
            ],
            "text/plain": [
              "          ds      y\n",
              "0 2010-09-30   2704\n",
              "1 2010-10-31  24992\n",
              "2 2010-11-30  38270\n",
              "3 2010-12-31  25620\n",
              "4 2011-01-31  34438\n",
              "5 2011-02-28  41326\n",
              "6 2011-03-31  50382\n",
              "7 2011-04-30  70781"
            ]
          },
          "metadata": {
            "tags": []
          },
          "execution_count": 12
        }
      ]
    },
    {
      "cell_type": "code",
      "metadata": {
        "colab": {
          "base_uri": "https://localhost:8080/"
        },
        "id": "9oYD-dWIV8lm",
        "outputId": "c1ec4c5d-a61b-4226-d96b-68fa8ad092ef"
      },
      "source": [
        "memberxmonth_df.shape"
      ],
      "execution_count": 27,
      "outputs": [
        {
          "output_type": "execute_result",
          "data": {
            "text/plain": [
              "(128, 2)"
            ]
          },
          "metadata": {
            "tags": []
          },
          "execution_count": 27
        }
      ]
    },
    {
      "cell_type": "code",
      "metadata": {
        "colab": {
          "base_uri": "https://localhost:8080/"
        },
        "id": "HTK6FpJ8ZW7O",
        "outputId": "cc460b1b-37b9-4821-9cc3-c83d60e5e74e"
      },
      "source": [
        "memberxmonth_df.dtypes"
      ],
      "execution_count": 13,
      "outputs": [
        {
          "output_type": "execute_result",
          "data": {
            "text/plain": [
              "ds    datetime64[ns]\n",
              "y              int64\n",
              "dtype: object"
            ]
          },
          "metadata": {
            "tags": []
          },
          "execution_count": 13
        }
      ]
    },
    {
      "cell_type": "code",
      "metadata": {
        "colab": {
          "base_uri": "https://localhost:8080/",
          "height": 204
        },
        "id": "_BHWYigwD8JJ",
        "outputId": "4d4326b7-fae7-4bdc-c066-b42a8a0a8ac7"
      },
      "source": [
        " # Creating two dataframes train and test\n",
        "pre2019 = memberxmonth_df[memberxmonth_df['ds'] <= '2019-01-31']\n",
        "pre2019.head(5) "
      ],
      "execution_count": 25,
      "outputs": [
        {
          "output_type": "execute_result",
          "data": {
            "text/html": [
              "<div>\n",
              "<style scoped>\n",
              "    .dataframe tbody tr th:only-of-type {\n",
              "        vertical-align: middle;\n",
              "    }\n",
              "\n",
              "    .dataframe tbody tr th {\n",
              "        vertical-align: top;\n",
              "    }\n",
              "\n",
              "    .dataframe thead th {\n",
              "        text-align: right;\n",
              "    }\n",
              "</style>\n",
              "<table border=\"1\" class=\"dataframe\">\n",
              "  <thead>\n",
              "    <tr style=\"text-align: right;\">\n",
              "      <th></th>\n",
              "      <th>ds</th>\n",
              "      <th>y</th>\n",
              "    </tr>\n",
              "  </thead>\n",
              "  <tbody>\n",
              "    <tr>\n",
              "      <th>0</th>\n",
              "      <td>2010-09-30</td>\n",
              "      <td>2704</td>\n",
              "    </tr>\n",
              "    <tr>\n",
              "      <th>1</th>\n",
              "      <td>2010-10-31</td>\n",
              "      <td>24992</td>\n",
              "    </tr>\n",
              "    <tr>\n",
              "      <th>2</th>\n",
              "      <td>2010-11-30</td>\n",
              "      <td>38270</td>\n",
              "    </tr>\n",
              "    <tr>\n",
              "      <th>3</th>\n",
              "      <td>2010-12-31</td>\n",
              "      <td>25620</td>\n",
              "    </tr>\n",
              "    <tr>\n",
              "      <th>4</th>\n",
              "      <td>2011-01-31</td>\n",
              "      <td>34438</td>\n",
              "    </tr>\n",
              "  </tbody>\n",
              "</table>\n",
              "</div>"
            ],
            "text/plain": [
              "          ds      y\n",
              "0 2010-09-30   2704\n",
              "1 2010-10-31  24992\n",
              "2 2010-11-30  38270\n",
              "3 2010-12-31  25620\n",
              "4 2011-01-31  34438"
            ]
          },
          "metadata": {
            "tags": []
          },
          "execution_count": 25
        }
      ]
    },
    {
      "cell_type": "code",
      "metadata": {
        "colab": {
          "base_uri": "https://localhost:8080/"
        },
        "id": "g2h1uq9kVzgm",
        "outputId": "793baa7f-c7d0-40ab-c390-2f94a8fe3671"
      },
      "source": [
        "pre2019.shape "
      ],
      "execution_count": 26,
      "outputs": [
        {
          "output_type": "execute_result",
          "data": {
            "text/plain": [
              "(101, 2)"
            ]
          },
          "metadata": {
            "tags": []
          },
          "execution_count": 26
        }
      ]
    },
    {
      "cell_type": "code",
      "metadata": {
        "colab": {
          "base_uri": "https://localhost:8080/",
          "height": 204
        },
        "id": "LJZO_tHAE3YM",
        "outputId": "87aa2e47-6135-44bf-bdd8-3a6c5e49540e"
      },
      "source": [
        "#creating the train data frame\n",
        "train = pre2019[pre2019['ds'] <= '2016-12-31']\n",
        "train.head(5)"
      ],
      "execution_count": 28,
      "outputs": [
        {
          "output_type": "execute_result",
          "data": {
            "text/html": [
              "<div>\n",
              "<style scoped>\n",
              "    .dataframe tbody tr th:only-of-type {\n",
              "        vertical-align: middle;\n",
              "    }\n",
              "\n",
              "    .dataframe tbody tr th {\n",
              "        vertical-align: top;\n",
              "    }\n",
              "\n",
              "    .dataframe thead th {\n",
              "        text-align: right;\n",
              "    }\n",
              "</style>\n",
              "<table border=\"1\" class=\"dataframe\">\n",
              "  <thead>\n",
              "    <tr style=\"text-align: right;\">\n",
              "      <th></th>\n",
              "      <th>ds</th>\n",
              "      <th>y</th>\n",
              "    </tr>\n",
              "  </thead>\n",
              "  <tbody>\n",
              "    <tr>\n",
              "      <th>0</th>\n",
              "      <td>2010-09-30</td>\n",
              "      <td>2704</td>\n",
              "    </tr>\n",
              "    <tr>\n",
              "      <th>1</th>\n",
              "      <td>2010-10-31</td>\n",
              "      <td>24992</td>\n",
              "    </tr>\n",
              "    <tr>\n",
              "      <th>2</th>\n",
              "      <td>2010-11-30</td>\n",
              "      <td>38270</td>\n",
              "    </tr>\n",
              "    <tr>\n",
              "      <th>3</th>\n",
              "      <td>2010-12-31</td>\n",
              "      <td>25620</td>\n",
              "    </tr>\n",
              "    <tr>\n",
              "      <th>4</th>\n",
              "      <td>2011-01-31</td>\n",
              "      <td>34438</td>\n",
              "    </tr>\n",
              "  </tbody>\n",
              "</table>\n",
              "</div>"
            ],
            "text/plain": [
              "          ds      y\n",
              "0 2010-09-30   2704\n",
              "1 2010-10-31  24992\n",
              "2 2010-11-30  38270\n",
              "3 2010-12-31  25620\n",
              "4 2011-01-31  34438"
            ]
          },
          "metadata": {
            "tags": []
          },
          "execution_count": 28
        }
      ]
    },
    {
      "cell_type": "code",
      "metadata": {
        "colab": {
          "base_uri": "https://localhost:8080/"
        },
        "id": "-u7ZVnfwWS6B",
        "outputId": "61b02700-f753-40ec-bf96-2d82282cc337"
      },
      "source": [
        "train.shape"
      ],
      "execution_count": 29,
      "outputs": [
        {
          "output_type": "execute_result",
          "data": {
            "text/plain": [
              "(76, 2)"
            ]
          },
          "metadata": {
            "tags": []
          },
          "execution_count": 29
        }
      ]
    },
    {
      "cell_type": "code",
      "metadata": {
        "id": "wWwpCgvCDC-e"
      },
      "source": [
        "#creating the test data frame\n",
        "test = pre2019[pre2019['ds'] >= '2016-12-31']"
      ],
      "execution_count": 31,
      "outputs": []
    },
    {
      "cell_type": "code",
      "metadata": {
        "colab": {
          "base_uri": "https://localhost:8080/"
        },
        "id": "4V0j4-UgWYBB",
        "outputId": "f5b58a31-f8b0-4efc-ae73-0210cbfbda70"
      },
      "source": [
        "test.shape"
      ],
      "execution_count": 32,
      "outputs": [
        {
          "output_type": "execute_result",
          "data": {
            "text/plain": [
              "(26, 2)"
            ]
          },
          "metadata": {
            "tags": []
          },
          "execution_count": 32
        }
      ]
    },
    {
      "cell_type": "code",
      "metadata": {
        "colab": {
          "base_uri": "https://localhost:8080/",
          "height": 855
        },
        "id": "HLhmX7GqW1t0",
        "outputId": "e2ec6b3d-ce91-4282-f7d2-cc3c78119842"
      },
      "source": [
        "test"
      ],
      "execution_count": 33,
      "outputs": [
        {
          "output_type": "execute_result",
          "data": {
            "text/html": [
              "<div>\n",
              "<style scoped>\n",
              "    .dataframe tbody tr th:only-of-type {\n",
              "        vertical-align: middle;\n",
              "    }\n",
              "\n",
              "    .dataframe tbody tr th {\n",
              "        vertical-align: top;\n",
              "    }\n",
              "\n",
              "    .dataframe thead th {\n",
              "        text-align: right;\n",
              "    }\n",
              "</style>\n",
              "<table border=\"1\" class=\"dataframe\">\n",
              "  <thead>\n",
              "    <tr style=\"text-align: right;\">\n",
              "      <th></th>\n",
              "      <th>ds</th>\n",
              "      <th>y</th>\n",
              "    </tr>\n",
              "  </thead>\n",
              "  <tbody>\n",
              "    <tr>\n",
              "      <th>75</th>\n",
              "      <td>2016-12-31</td>\n",
              "      <td>147271</td>\n",
              "    </tr>\n",
              "    <tr>\n",
              "      <th>76</th>\n",
              "      <td>2017-01-31</td>\n",
              "      <td>152934</td>\n",
              "    </tr>\n",
              "    <tr>\n",
              "      <th>77</th>\n",
              "      <td>2017-02-28</td>\n",
              "      <td>182281</td>\n",
              "    </tr>\n",
              "    <tr>\n",
              "      <th>78</th>\n",
              "      <td>2017-03-31</td>\n",
              "      <td>193219</td>\n",
              "    </tr>\n",
              "    <tr>\n",
              "      <th>79</th>\n",
              "      <td>2017-04-30</td>\n",
              "      <td>241750</td>\n",
              "    </tr>\n",
              "    <tr>\n",
              "      <th>80</th>\n",
              "      <td>2017-05-31</td>\n",
              "      <td>241914</td>\n",
              "    </tr>\n",
              "    <tr>\n",
              "      <th>81</th>\n",
              "      <td>2017-06-30</td>\n",
              "      <td>279723</td>\n",
              "    </tr>\n",
              "    <tr>\n",
              "      <th>82</th>\n",
              "      <td>2017-07-31</td>\n",
              "      <td>258919</td>\n",
              "    </tr>\n",
              "    <tr>\n",
              "      <th>83</th>\n",
              "      <td>2017-08-31</td>\n",
              "      <td>280687</td>\n",
              "    </tr>\n",
              "    <tr>\n",
              "      <th>84</th>\n",
              "      <td>2017-09-30</td>\n",
              "      <td>285589</td>\n",
              "    </tr>\n",
              "    <tr>\n",
              "      <th>85</th>\n",
              "      <td>2017-10-31</td>\n",
              "      <td>290954</td>\n",
              "    </tr>\n",
              "    <tr>\n",
              "      <th>86</th>\n",
              "      <td>2017-11-30</td>\n",
              "      <td>210223</td>\n",
              "    </tr>\n",
              "    <tr>\n",
              "      <th>87</th>\n",
              "      <td>2017-12-31</td>\n",
              "      <td>157786</td>\n",
              "    </tr>\n",
              "    <tr>\n",
              "      <th>88</th>\n",
              "      <td>2018-01-31</td>\n",
              "      <td>151591</td>\n",
              "    </tr>\n",
              "    <tr>\n",
              "      <th>89</th>\n",
              "      <td>2018-02-28</td>\n",
              "      <td>160545</td>\n",
              "    </tr>\n",
              "    <tr>\n",
              "      <th>90</th>\n",
              "      <td>2018-03-31</td>\n",
              "      <td>184779</td>\n",
              "    </tr>\n",
              "    <tr>\n",
              "      <th>91</th>\n",
              "      <td>2018-04-30</td>\n",
              "      <td>239305</td>\n",
              "    </tr>\n",
              "    <tr>\n",
              "      <th>92</th>\n",
              "      <td>2018-05-31</td>\n",
              "      <td>271812</td>\n",
              "    </tr>\n",
              "    <tr>\n",
              "      <th>93</th>\n",
              "      <td>2018-06-30</td>\n",
              "      <td>289323</td>\n",
              "    </tr>\n",
              "    <tr>\n",
              "      <th>94</th>\n",
              "      <td>2018-07-31</td>\n",
              "      <td>293289</td>\n",
              "    </tr>\n",
              "    <tr>\n",
              "      <th>95</th>\n",
              "      <td>2018-08-31</td>\n",
              "      <td>308308</td>\n",
              "    </tr>\n",
              "    <tr>\n",
              "      <th>96</th>\n",
              "      <td>2018-09-30</td>\n",
              "      <td>264469</td>\n",
              "    </tr>\n",
              "    <tr>\n",
              "      <th>97</th>\n",
              "      <td>2018-10-31</td>\n",
              "      <td>289397</td>\n",
              "    </tr>\n",
              "    <tr>\n",
              "      <th>98</th>\n",
              "      <td>2018-11-30</td>\n",
              "      <td>179199</td>\n",
              "    </tr>\n",
              "    <tr>\n",
              "      <th>99</th>\n",
              "      <td>2018-12-31</td>\n",
              "      <td>160552</td>\n",
              "    </tr>\n",
              "    <tr>\n",
              "      <th>100</th>\n",
              "      <td>2019-01-31</td>\n",
              "      <td>139443</td>\n",
              "    </tr>\n",
              "  </tbody>\n",
              "</table>\n",
              "</div>"
            ],
            "text/plain": [
              "            ds       y\n",
              "75  2016-12-31  147271\n",
              "76  2017-01-31  152934\n",
              "77  2017-02-28  182281\n",
              "78  2017-03-31  193219\n",
              "79  2017-04-30  241750\n",
              "80  2017-05-31  241914\n",
              "81  2017-06-30  279723\n",
              "82  2017-07-31  258919\n",
              "83  2017-08-31  280687\n",
              "84  2017-09-30  285589\n",
              "85  2017-10-31  290954\n",
              "86  2017-11-30  210223\n",
              "87  2017-12-31  157786\n",
              "88  2018-01-31  151591\n",
              "89  2018-02-28  160545\n",
              "90  2018-03-31  184779\n",
              "91  2018-04-30  239305\n",
              "92  2018-05-31  271812\n",
              "93  2018-06-30  289323\n",
              "94  2018-07-31  293289\n",
              "95  2018-08-31  308308\n",
              "96  2018-09-30  264469\n",
              "97  2018-10-31  289397\n",
              "98  2018-11-30  179199\n",
              "99  2018-12-31  160552\n",
              "100 2019-01-31  139443"
            ]
          },
          "metadata": {
            "tags": []
          },
          "execution_count": 33
        }
      ]
    },
    {
      "cell_type": "code",
      "metadata": {
        "id": "ZeuZT1cam2f1",
        "colab": {
          "base_uri": "https://localhost:8080/"
        },
        "outputId": "6b65475d-7269-470b-8666-d0657e4c9a6d"
      },
      "source": [
        "# Instantiate and fit the Prophet model *** with weekly seasonality\n",
        "m = Prophet(interval_width=0.95, weekly_seasonality=True) \n",
        "model = m.fit(train)"
      ],
      "execution_count": 34,
      "outputs": [
        {
          "output_type": "stream",
          "text": [
            "INFO:fbprophet:Disabling daily seasonality. Run prophet with daily_seasonality=True to override this.\n"
          ],
          "name": "stderr"
        }
      ]
    },
    {
      "cell_type": "code",
      "metadata": {
        "id": "6aaTJr3u4hDV",
        "colab": {
          "base_uri": "https://localhost:8080/",
          "height": 204
        },
        "outputId": "e30bc7bc-00ff-49a0-9128-c4ee30b22177"
      },
      "source": [
        "future_data = model.make_future_dataframe(periods=36, freq='m')\n",
        "future_data.tail()"
      ],
      "execution_count": 77,
      "outputs": [
        {
          "output_type": "execute_result",
          "data": {
            "text/html": [
              "<div>\n",
              "<style scoped>\n",
              "    .dataframe tbody tr th:only-of-type {\n",
              "        vertical-align: middle;\n",
              "    }\n",
              "\n",
              "    .dataframe tbody tr th {\n",
              "        vertical-align: top;\n",
              "    }\n",
              "\n",
              "    .dataframe thead th {\n",
              "        text-align: right;\n",
              "    }\n",
              "</style>\n",
              "<table border=\"1\" class=\"dataframe\">\n",
              "  <thead>\n",
              "    <tr style=\"text-align: right;\">\n",
              "      <th></th>\n",
              "      <th>ds</th>\n",
              "    </tr>\n",
              "  </thead>\n",
              "  <tbody>\n",
              "    <tr>\n",
              "      <th>107</th>\n",
              "      <td>2019-08-31</td>\n",
              "    </tr>\n",
              "    <tr>\n",
              "      <th>108</th>\n",
              "      <td>2019-09-30</td>\n",
              "    </tr>\n",
              "    <tr>\n",
              "      <th>109</th>\n",
              "      <td>2019-10-31</td>\n",
              "    </tr>\n",
              "    <tr>\n",
              "      <th>110</th>\n",
              "      <td>2019-11-30</td>\n",
              "    </tr>\n",
              "    <tr>\n",
              "      <th>111</th>\n",
              "      <td>2019-12-31</td>\n",
              "    </tr>\n",
              "  </tbody>\n",
              "</table>\n",
              "</div>"
            ],
            "text/plain": [
              "            ds\n",
              "107 2019-08-31\n",
              "108 2019-09-30\n",
              "109 2019-10-31\n",
              "110 2019-11-30\n",
              "111 2019-12-31"
            ]
          },
          "metadata": {
            "tags": []
          },
          "execution_count": 77
        }
      ]
    },
    {
      "cell_type": "code",
      "metadata": {
        "id": "nySTLx3J4rwF"
      },
      "source": [
        "forecast_data = model.predict(future_data)"
      ],
      "execution_count": 78,
      "outputs": []
    },
    {
      "cell_type": "code",
      "metadata": {
        "colab": {
          "base_uri": "https://localhost:8080/",
          "height": 204
        },
        "id": "YvaLcAxl4sh_",
        "outputId": "21a8448b-a37f-4863-ee79-88da8a9b5206"
      },
      "source": [
        "forecast_data[['ds', 'yhat', 'yhat_lower', 'yhat_upper']].tail()"
      ],
      "execution_count": 79,
      "outputs": [
        {
          "output_type": "execute_result",
          "data": {
            "text/html": [
              "<div>\n",
              "<style scoped>\n",
              "    .dataframe tbody tr th:only-of-type {\n",
              "        vertical-align: middle;\n",
              "    }\n",
              "\n",
              "    .dataframe tbody tr th {\n",
              "        vertical-align: top;\n",
              "    }\n",
              "\n",
              "    .dataframe thead th {\n",
              "        text-align: right;\n",
              "    }\n",
              "</style>\n",
              "<table border=\"1\" class=\"dataframe\">\n",
              "  <thead>\n",
              "    <tr style=\"text-align: right;\">\n",
              "      <th></th>\n",
              "      <th>ds</th>\n",
              "      <th>yhat</th>\n",
              "      <th>yhat_lower</th>\n",
              "      <th>yhat_upper</th>\n",
              "    </tr>\n",
              "  </thead>\n",
              "  <tbody>\n",
              "    <tr>\n",
              "      <th>107</th>\n",
              "      <td>2019-08-31</td>\n",
              "      <td>320602.686446</td>\n",
              "      <td>284655.893822</td>\n",
              "      <td>360983.033862</td>\n",
              "    </tr>\n",
              "    <tr>\n",
              "      <th>108</th>\n",
              "      <td>2019-09-30</td>\n",
              "      <td>314376.413053</td>\n",
              "      <td>274082.278183</td>\n",
              "      <td>353085.141084</td>\n",
              "    </tr>\n",
              "    <tr>\n",
              "      <th>109</th>\n",
              "      <td>2019-10-31</td>\n",
              "      <td>308129.308216</td>\n",
              "      <td>267130.120203</td>\n",
              "      <td>346442.925017</td>\n",
              "    </tr>\n",
              "    <tr>\n",
              "      <th>110</th>\n",
              "      <td>2019-11-30</td>\n",
              "      <td>270423.054264</td>\n",
              "      <td>229325.642257</td>\n",
              "      <td>310868.124986</td>\n",
              "    </tr>\n",
              "    <tr>\n",
              "      <th>111</th>\n",
              "      <td>2019-12-31</td>\n",
              "      <td>262783.587835</td>\n",
              "      <td>223756.513776</td>\n",
              "      <td>303184.111003</td>\n",
              "    </tr>\n",
              "  </tbody>\n",
              "</table>\n",
              "</div>"
            ],
            "text/plain": [
              "            ds           yhat     yhat_lower     yhat_upper\n",
              "107 2019-08-31  320602.686446  284655.893822  360983.033862\n",
              "108 2019-09-30  314376.413053  274082.278183  353085.141084\n",
              "109 2019-10-31  308129.308216  267130.120203  346442.925017\n",
              "110 2019-11-30  270423.054264  229325.642257  310868.124986\n",
              "111 2019-12-31  262783.587835  223756.513776  303184.111003"
            ]
          },
          "metadata": {
            "tags": []
          },
          "execution_count": 79
        }
      ]
    },
    {
      "cell_type": "code",
      "metadata": {
        "colab": {
          "base_uri": "https://localhost:8080/",
          "height": 309
        },
        "id": "RFDHUykTm4HV",
        "outputId": "2a31bbfe-8460-4728-ed06-6f34c8c8cb4f"
      },
      "source": [
        "forecast_data.head()"
      ],
      "execution_count": 68,
      "outputs": [
        {
          "output_type": "execute_result",
          "data": {
            "text/html": [
              "<div>\n",
              "<style scoped>\n",
              "    .dataframe tbody tr th:only-of-type {\n",
              "        vertical-align: middle;\n",
              "    }\n",
              "\n",
              "    .dataframe tbody tr th {\n",
              "        vertical-align: top;\n",
              "    }\n",
              "\n",
              "    .dataframe thead th {\n",
              "        text-align: right;\n",
              "    }\n",
              "</style>\n",
              "<table border=\"1\" class=\"dataframe\">\n",
              "  <thead>\n",
              "    <tr style=\"text-align: right;\">\n",
              "      <th></th>\n",
              "      <th>ds</th>\n",
              "      <th>trend</th>\n",
              "      <th>yhat_lower</th>\n",
              "      <th>yhat_upper</th>\n",
              "      <th>trend_lower</th>\n",
              "      <th>trend_upper</th>\n",
              "      <th>additive_terms</th>\n",
              "      <th>additive_terms_lower</th>\n",
              "      <th>additive_terms_upper</th>\n",
              "      <th>weekly</th>\n",
              "      <th>weekly_lower</th>\n",
              "      <th>weekly_upper</th>\n",
              "      <th>yearly</th>\n",
              "      <th>yearly_lower</th>\n",
              "      <th>yearly_upper</th>\n",
              "      <th>multiplicative_terms</th>\n",
              "      <th>multiplicative_terms_lower</th>\n",
              "      <th>multiplicative_terms_upper</th>\n",
              "      <th>yhat</th>\n",
              "    </tr>\n",
              "  </thead>\n",
              "  <tbody>\n",
              "    <tr>\n",
              "      <th>0</th>\n",
              "      <td>2010-09-30</td>\n",
              "      <td>50614.106168</td>\n",
              "      <td>36099.871050</td>\n",
              "      <td>109433.290989</td>\n",
              "      <td>50614.106168</td>\n",
              "      <td>50614.106168</td>\n",
              "      <td>21787.677924</td>\n",
              "      <td>21787.677924</td>\n",
              "      <td>21787.677924</td>\n",
              "      <td>1614.880012</td>\n",
              "      <td>1614.880012</td>\n",
              "      <td>1614.880012</td>\n",
              "      <td>20172.797912</td>\n",
              "      <td>20172.797912</td>\n",
              "      <td>20172.797912</td>\n",
              "      <td>0.0</td>\n",
              "      <td>0.0</td>\n",
              "      <td>0.0</td>\n",
              "      <td>72401.784091</td>\n",
              "    </tr>\n",
              "    <tr>\n",
              "      <th>1</th>\n",
              "      <td>2010-10-31</td>\n",
              "      <td>54438.371318</td>\n",
              "      <td>15226.605171</td>\n",
              "      <td>89080.014095</td>\n",
              "      <td>54438.371318</td>\n",
              "      <td>54438.371318</td>\n",
              "      <td>-1024.408935</td>\n",
              "      <td>-1024.408935</td>\n",
              "      <td>-1024.408935</td>\n",
              "      <td>-16348.797767</td>\n",
              "      <td>-16348.797767</td>\n",
              "      <td>-16348.797767</td>\n",
              "      <td>15324.388831</td>\n",
              "      <td>15324.388831</td>\n",
              "      <td>15324.388831</td>\n",
              "      <td>0.0</td>\n",
              "      <td>0.0</td>\n",
              "      <td>0.0</td>\n",
              "      <td>53413.962382</td>\n",
              "    </tr>\n",
              "    <tr>\n",
              "      <th>2</th>\n",
              "      <td>2010-11-30</td>\n",
              "      <td>58139.273076</td>\n",
              "      <td>5403.655386</td>\n",
              "      <td>79378.926965</td>\n",
              "      <td>58139.273076</td>\n",
              "      <td>58139.273076</td>\n",
              "      <td>-15067.040465</td>\n",
              "      <td>-15067.040465</td>\n",
              "      <td>-15067.040465</td>\n",
              "      <td>5692.653702</td>\n",
              "      <td>5692.653702</td>\n",
              "      <td>5692.653702</td>\n",
              "      <td>-20759.694166</td>\n",
              "      <td>-20759.694166</td>\n",
              "      <td>-20759.694166</td>\n",
              "      <td>0.0</td>\n",
              "      <td>0.0</td>\n",
              "      <td>0.0</td>\n",
              "      <td>43072.232611</td>\n",
              "    </tr>\n",
              "    <tr>\n",
              "      <th>3</th>\n",
              "      <td>2010-12-31</td>\n",
              "      <td>61963.538226</td>\n",
              "      <td>-22584.657812</td>\n",
              "      <td>49711.076454</td>\n",
              "      <td>61963.538226</td>\n",
              "      <td>61963.538226</td>\n",
              "      <td>-48548.359531</td>\n",
              "      <td>-48548.359531</td>\n",
              "      <td>-48548.359531</td>\n",
              "      <td>2225.767552</td>\n",
              "      <td>2225.767552</td>\n",
              "      <td>2225.767552</td>\n",
              "      <td>-50774.127083</td>\n",
              "      <td>-50774.127083</td>\n",
              "      <td>-50774.127083</td>\n",
              "      <td>0.0</td>\n",
              "      <td>0.0</td>\n",
              "      <td>0.0</td>\n",
              "      <td>13415.178695</td>\n",
              "    </tr>\n",
              "    <tr>\n",
              "      <th>4</th>\n",
              "      <td>2011-01-31</td>\n",
              "      <td>65787.803377</td>\n",
              "      <td>-22932.049710</td>\n",
              "      <td>54854.164073</td>\n",
              "      <td>65787.803377</td>\n",
              "      <td>65787.803377</td>\n",
              "      <td>-51704.475007</td>\n",
              "      <td>-51704.475007</td>\n",
              "      <td>-51704.475007</td>\n",
              "      <td>9127.635929</td>\n",
              "      <td>9127.635929</td>\n",
              "      <td>9127.635929</td>\n",
              "      <td>-60832.110936</td>\n",
              "      <td>-60832.110936</td>\n",
              "      <td>-60832.110936</td>\n",
              "      <td>0.0</td>\n",
              "      <td>0.0</td>\n",
              "      <td>0.0</td>\n",
              "      <td>14083.328370</td>\n",
              "    </tr>\n",
              "  </tbody>\n",
              "</table>\n",
              "</div>"
            ],
            "text/plain": [
              "          ds         trend  ...  multiplicative_terms_upper          yhat\n",
              "0 2010-09-30  50614.106168  ...                         0.0  72401.784091\n",
              "1 2010-10-31  54438.371318  ...                         0.0  53413.962382\n",
              "2 2010-11-30  58139.273076  ...                         0.0  43072.232611\n",
              "3 2010-12-31  61963.538226  ...                         0.0  13415.178695\n",
              "4 2011-01-31  65787.803377  ...                         0.0  14083.328370\n",
              "\n",
              "[5 rows x 19 columns]"
            ]
          },
          "metadata": {
            "tags": []
          },
          "execution_count": 68
        }
      ]
    },
    {
      "cell_type": "code",
      "metadata": {
        "colab": {
          "base_uri": "https://localhost:8080/"
        },
        "id": "FiVGN06AmtCe",
        "outputId": "6541fd12-d4ff-4cf8-edef-faefd60b9b09"
      },
      "source": [
        "print(type(forecast_data))"
      ],
      "execution_count": 69,
      "outputs": [
        {
          "output_type": "stream",
          "text": [
            "<class 'pandas.core.frame.DataFrame'>\n"
          ],
          "name": "stdout"
        }
      ]
    },
    {
      "cell_type": "code",
      "metadata": {
        "colab": {
          "base_uri": "https://localhost:8080/",
          "height": 441
        },
        "id": "dSE5zmjh4v4N",
        "outputId": "52d5efbc-60ba-4719-da07-7dddfa35dad4"
      },
      "source": [
        "forecast_fig = model.plot(forecast_data)"
      ],
      "execution_count": 80,
      "outputs": [
        {
          "output_type": "display_data",
          "data": {
            "image/png": "[encoded data removed]",
            "text/plain": [
              "<Figure size 720x432 with 1 Axes>"
            ]
          },
          "metadata": {
            "tags": []
          }
        }
      ]
    },
    {
      "cell_type": "code",
      "metadata": {
        "id": "0jdF9Tag46hF",
        "colab": {
          "base_uri": "https://localhost:8080/",
          "height": 657
        },
        "outputId": "7f6de483-99ae-48f7-e29c-36058ad02482"
      },
      "source": [
        "# Decompose outputs\n",
        "fig2 = model.plot_components(forecast_data)"
      ],
      "execution_count": 71,
      "outputs": [
        {
          "output_type": "display_data",
          "data": {
            "image/png": "[encoded data removed]",
            "text/plain": [
              "<Figure size 648x648 with 3 Axes>"
            ]
          },
          "metadata": {
            "tags": []
          }
        }
      ]
    },
    {
      "cell_type": "code",
      "metadata": {
        "colab": {
          "base_uri": "https://localhost:8080/",
          "height": 441
        },
        "id": "dJ1qDcqcYvBp",
        "outputId": "08485e59-20ad-4228-e12b-278def71e651"
      },
      "source": [
        "# Plot changepoints\n",
        "from fbprophet.plot import add_changepoints_to_plot\n",
        "fig = m.plot(forecast_data)\n",
        "a = add_changepoints_to_plot(fig.gca(), m, forecast_data)"
      ],
      "execution_count": 72,
      "outputs": [
        {
          "output_type": "display_data",
          "data": {
            "image/png": "[encoded data removed]",
            "text/plain": [
              "<Figure size 720x432 with 1 Axes>"
            ]
          },
          "metadata": {
            "tags": []
          }
        }
      ]
    },
    {
      "cell_type": "code",
      "metadata": {
        "colab": {
          "base_uri": "https://localhost:8080/"
        },
        "id": "VVnJWDguZoiN",
        "outputId": "6dcf9893-21d8-4a1d-ee56-bdae7bcd945a"
      },
      "source": [
        "deltas = m.params['delta'].mean(0)\n",
        "deltas"
      ],
      "execution_count": 73,
      "outputs": [
        {
          "output_type": "execute_result",
          "data": {
            "text/plain": [
              "array([ 1.66504350e-10, -6.47141535e-09, -5.19295781e-09,  3.53608305e-09,\n",
              "        1.62193073e-09, -4.14094642e-06, -5.04226629e-04, -5.08462850e-05,\n",
              "       -3.49783601e-04, -3.76023697e-04, -4.04015034e-04, -3.14815205e-01,\n",
              "       -5.27524826e-04, -9.17039892e-04, -2.47687142e-01, -3.34832343e-04,\n",
              "       -2.14815298e-04, -3.31399388e-04, -6.64771908e-04, -7.53802890e-04,\n",
              "       -1.17908156e-05, -3.36580066e-04, -3.84423491e-05, -1.69730509e-07,\n",
              "       -6.86175459e-09])"
            ]
          },
          "metadata": {
            "tags": []
          },
          "execution_count": 73
        }
      ]
    },
    {
      "cell_type": "code",
      "metadata": {
        "colab": {
          "base_uri": "https://localhost:8080/",
          "height": 297
        },
        "id": "9J5YVZXCZ1l2",
        "outputId": "7b2d97a1-b3e4-450a-8570-5c634824d762"
      },
      "source": [
        "# Plot changepoint changes\n",
        "fig = plt.figure(facecolor='w')\n",
        "ax = fig.add_subplot(111)\n",
        "ax.bar(range(len(deltas)), deltas)\n",
        "ax.grid(True, which='major', c='red', ls='-', lw=1, alpha=0.2)\n",
        "ax.set_ylabel('Rate change')\n",
        "ax.set_xlabel('change point')\n",
        "fig.tight_layout()"
      ],
      "execution_count": 74,
      "outputs": [
        {
          "output_type": "display_data",
          "data": {
            "image/png": "[encoded data removed]",
            "text/plain": [
              "<Figure size 432x288 with 1 Axes>"
            ]
          },
          "metadata": {
            "tags": []
          }
        }
      ]
    },
    {
      "cell_type": "code",
      "metadata": {
        "colab": {
          "base_uri": "https://localhost:8080/",
          "height": 474,
          "referenced_widgets": [
            "41b5a59344b842a6910d3f9d82cce82a",
            "2b87d2015ce944c2b33195629dff37f6",
            "9a41b317126f471c96038303e710c92f",
            "ea05c9cf20a648bdacdf4f414930c91d",
            "0f3387f25d48419aa15e35f21a8e0203",
            "afc61cd2f5bc4d60933a724ae790cc82",
            "95b689f447624b928ede5ce38f218b87",
            "6dfd866b38ed4fb7810a4af6a69c3d98"
          ]
        },
        "id": "Riv0a0O2dOcH",
        "outputId": "e14b3ecf-df05-4341-cbb7-528205889d8c"
      },
      "source": [
        "# Cross Validation\n",
        "from fbprophet.diagnostics import cross_validation\n",
        "cv_results = cross_validation(model=m, initial='366', horizon='180 days')\n",
        "cv_results.head()"
      ],
      "execution_count": 75,
      "outputs": [
        {
          "output_type": "stream",
          "text": [
            "INFO:fbprophet:Making 24 forecasts with cutoffs between 2010-11-03 00:00:00 and 2016-07-04 00:00:00\n",
            "WARNING:fbprophet:Seasonality has period of 365.25 days which is larger than initial window. Consider increasing initial.\n"
          ],
          "name": "stderr"
        },
        {
          "output_type": "display_data",
          "data": {
            "application/vnd.jupyter.widget-view+json": {
              "model_id": "41b5a59344b842a6910d3f9d82cce82a",
              "version_minor": 0,
              "version_major": 2
            },
            "text/plain": [
              "HBox(children=(FloatProgress(value=0.0, max=24.0), HTML(value='')))"
            ]
          },
          "metadata": {
            "tags": []
          }
        },
        {
          "output_type": "stream",
          "text": [
            "INFO:fbprophet:n_changepoints greater than number of observations. Using 0.\n",
            "INFO:fbprophet:n_changepoints greater than number of observations. Using 3.\n",
            "INFO:fbprophet:n_changepoints greater than number of observations. Using 5.\n",
            "INFO:fbprophet:n_changepoints greater than number of observations. Using 7.\n",
            "INFO:fbprophet:n_changepoints greater than number of observations. Using 9.\n",
            "INFO:fbprophet:n_changepoints greater than number of observations. Using 11.\n",
            "INFO:fbprophet:n_changepoints greater than number of observations. Using 14.\n",
            "INFO:fbprophet:n_changepoints greater than number of observations. Using 16.\n",
            "INFO:fbprophet:n_changepoints greater than number of observations. Using 19.\n",
            "INFO:fbprophet:n_changepoints greater than number of observations. Using 21.\n",
            "INFO:fbprophet:n_changepoints greater than number of observations. Using 23.\n"
          ],
          "name": "stderr"
        },
        {
          "output_type": "stream",
          "text": [
            "\n"
          ],
          "name": "stdout"
        },
        {
          "output_type": "execute_result",
          "data": {
            "text/html": [
              "<div>\n",
              "<style scoped>\n",
              "    .dataframe tbody tr th:only-of-type {\n",
              "        vertical-align: middle;\n",
              "    }\n",
              "\n",
              "    .dataframe tbody tr th {\n",
              "        vertical-align: top;\n",
              "    }\n",
              "\n",
              "    .dataframe thead th {\n",
              "        text-align: right;\n",
              "    }\n",
              "</style>\n",
              "<table border=\"1\" class=\"dataframe\">\n",
              "  <thead>\n",
              "    <tr style=\"text-align: right;\">\n",
              "      <th></th>\n",
              "      <th>ds</th>\n",
              "      <th>yhat</th>\n",
              "      <th>yhat_lower</th>\n",
              "      <th>yhat_upper</th>\n",
              "      <th>y</th>\n",
              "      <th>cutoff</th>\n",
              "    </tr>\n",
              "  </thead>\n",
              "  <tbody>\n",
              "    <tr>\n",
              "      <th>0</th>\n",
              "      <td>2010-11-30</td>\n",
              "      <td>-26638.873485</td>\n",
              "      <td>-26638.873871</td>\n",
              "      <td>-26638.873052</td>\n",
              "      <td>38270</td>\n",
              "      <td>2010-11-03</td>\n",
              "    </tr>\n",
              "    <tr>\n",
              "      <th>1</th>\n",
              "      <td>2010-12-31</td>\n",
              "      <td>-133408.271126</td>\n",
              "      <td>-133408.272301</td>\n",
              "      <td>-133408.269857</td>\n",
              "      <td>25620</td>\n",
              "      <td>2010-11-03</td>\n",
              "    </tr>\n",
              "    <tr>\n",
              "      <th>2</th>\n",
              "      <td>2011-01-31</td>\n",
              "      <td>-76118.070188</td>\n",
              "      <td>-76118.072211</td>\n",
              "      <td>-76118.067924</td>\n",
              "      <td>34438</td>\n",
              "      <td>2010-11-03</td>\n",
              "    </tr>\n",
              "    <tr>\n",
              "      <th>3</th>\n",
              "      <td>2011-02-28</td>\n",
              "      <td>-108112.410265</td>\n",
              "      <td>-108112.413135</td>\n",
              "      <td>-108112.407191</td>\n",
              "      <td>41326</td>\n",
              "      <td>2010-11-03</td>\n",
              "    </tr>\n",
              "    <tr>\n",
              "      <th>4</th>\n",
              "      <td>2011-03-31</td>\n",
              "      <td>-161789.207781</td>\n",
              "      <td>-161789.211849</td>\n",
              "      <td>-161789.203471</td>\n",
              "      <td>50382</td>\n",
              "      <td>2010-11-03</td>\n",
              "    </tr>\n",
              "  </tbody>\n",
              "</table>\n",
              "</div>"
            ],
            "text/plain": [
              "          ds           yhat     yhat_lower     yhat_upper      y     cutoff\n",
              "0 2010-11-30  -26638.873485  -26638.873871  -26638.873052  38270 2010-11-03\n",
              "1 2010-12-31 -133408.271126 -133408.272301 -133408.269857  25620 2010-11-03\n",
              "2 2011-01-31  -76118.070188  -76118.072211  -76118.067924  34438 2010-11-03\n",
              "3 2011-02-28 -108112.410265 -108112.413135 -108112.407191  41326 2010-11-03\n",
              "4 2011-03-31 -161789.207781 -161789.211849 -161789.203471  50382 2010-11-03"
            ]
          },
          "metadata": {
            "tags": []
          },
          "execution_count": 75
        }
      ]
    },
    {
      "cell_type": "code",
      "metadata": {
        "colab": {
          "base_uri": "https://localhost:8080/",
          "height": 419
        },
        "id": "4GGvoA-HgpGW",
        "outputId": "528852a7-7352-4478-d62f-9716aeb83c8a"
      },
      "source": [
        "# Performance Metrics\n",
        "from fbprophet.diagnostics import performance_metrics\n",
        "df_p = performance_metrics(cv_results)\n",
        "df_p"
      ],
      "execution_count": 76,
      "outputs": [
        {
          "output_type": "execute_result",
          "data": {
            "text/html": [
              "<div>\n",
              "<style scoped>\n",
              "    .dataframe tbody tr th:only-of-type {\n",
              "        vertical-align: middle;\n",
              "    }\n",
              "\n",
              "    .dataframe tbody tr th {\n",
              "        vertical-align: top;\n",
              "    }\n",
              "\n",
              "    .dataframe thead th {\n",
              "        text-align: right;\n",
              "    }\n",
              "</style>\n",
              "<table border=\"1\" class=\"dataframe\">\n",
              "  <thead>\n",
              "    <tr style=\"text-align: right;\">\n",
              "      <th></th>\n",
              "      <th>horizon</th>\n",
              "      <th>mse</th>\n",
              "      <th>rmse</th>\n",
              "      <th>mae</th>\n",
              "      <th>mape</th>\n",
              "      <th>mdape</th>\n",
              "      <th>coverage</th>\n",
              "    </tr>\n",
              "  </thead>\n",
              "  <tbody>\n",
              "    <tr>\n",
              "      <th>0</th>\n",
              "      <td>19 days</td>\n",
              "      <td>5.123232e+11</td>\n",
              "      <td>715767.561638</td>\n",
              "      <td>288978.437056</td>\n",
              "      <td>2.901775</td>\n",
              "      <td>0.092065</td>\n",
              "      <td>0.285714</td>\n",
              "    </tr>\n",
              "    <tr>\n",
              "      <th>1</th>\n",
              "      <td>20 days</td>\n",
              "      <td>5.069186e+11</td>\n",
              "      <td>711982.128163</td>\n",
              "      <td>273959.844467</td>\n",
              "      <td>2.736444</td>\n",
              "      <td>0.092065</td>\n",
              "      <td>0.285714</td>\n",
              "    </tr>\n",
              "    <tr>\n",
              "      <th>2</th>\n",
              "      <td>21 days</td>\n",
              "      <td>2.540747e+11</td>\n",
              "      <td>504058.201068</td>\n",
              "      <td>148273.371893</td>\n",
              "      <td>1.447998</td>\n",
              "      <td>0.076374</td>\n",
              "      <td>0.357143</td>\n",
              "    </tr>\n",
              "    <tr>\n",
              "      <th>3</th>\n",
              "      <td>23 days</td>\n",
              "      <td>1.240705e+09</td>\n",
              "      <td>35223.642126</td>\n",
              "      <td>23059.847931</td>\n",
              "      <td>0.161732</td>\n",
              "      <td>0.066094</td>\n",
              "      <td>0.428571</td>\n",
              "    </tr>\n",
              "    <tr>\n",
              "      <th>4</th>\n",
              "      <td>25 days</td>\n",
              "      <td>1.617250e+09</td>\n",
              "      <td>40215.043868</td>\n",
              "      <td>27339.757603</td>\n",
              "      <td>0.202469</td>\n",
              "      <td>0.066094</td>\n",
              "      <td>0.500000</td>\n",
              "    </tr>\n",
              "    <tr>\n",
              "      <th>...</th>\n",
              "      <td>...</td>\n",
              "      <td>...</td>\n",
              "      <td>...</td>\n",
              "      <td>...</td>\n",
              "      <td>...</td>\n",
              "      <td>...</td>\n",
              "      <td>...</td>\n",
              "    </tr>\n",
              "    <tr>\n",
              "      <th>98</th>\n",
              "      <td>174 days</td>\n",
              "      <td>3.517292e+10</td>\n",
              "      <td>187544.442086</td>\n",
              "      <td>91825.520171</td>\n",
              "      <td>0.555270</td>\n",
              "      <td>0.280607</td>\n",
              "      <td>0.071429</td>\n",
              "    </tr>\n",
              "    <tr>\n",
              "      <th>99</th>\n",
              "      <td>175 days</td>\n",
              "      <td>2.455689e+09</td>\n",
              "      <td>49554.910861</td>\n",
              "      <td>45237.878948</td>\n",
              "      <td>0.282787</td>\n",
              "      <td>0.257966</td>\n",
              "      <td>0.142857</td>\n",
              "    </tr>\n",
              "    <tr>\n",
              "      <th>100</th>\n",
              "      <td>176 days</td>\n",
              "      <td>2.075191e+09</td>\n",
              "      <td>45554.266313</td>\n",
              "      <td>40492.799848</td>\n",
              "      <td>0.241963</td>\n",
              "      <td>0.227265</td>\n",
              "      <td>0.214286</td>\n",
              "    </tr>\n",
              "    <tr>\n",
              "      <th>101</th>\n",
              "      <td>178 days</td>\n",
              "      <td>1.695701e+10</td>\n",
              "      <td>130219.071357</td>\n",
              "      <td>66831.133008</td>\n",
              "      <td>0.656764</td>\n",
              "      <td>0.182590</td>\n",
              "      <td>0.285714</td>\n",
              "    </tr>\n",
              "    <tr>\n",
              "      <th>102</th>\n",
              "      <td>180 days</td>\n",
              "      <td>3.475594e+10</td>\n",
              "      <td>186429.444603</td>\n",
              "      <td>100241.615325</td>\n",
              "      <td>0.985511</td>\n",
              "      <td>0.182590</td>\n",
              "      <td>0.285714</td>\n",
              "    </tr>\n",
              "  </tbody>\n",
              "</table>\n",
              "<p>103 rows × 7 columns</p>\n",
              "</div>"
            ],
            "text/plain": [
              "     horizon           mse           rmse  ...      mape     mdape  coverage\n",
              "0    19 days  5.123232e+11  715767.561638  ...  2.901775  0.092065  0.285714\n",
              "1    20 days  5.069186e+11  711982.128163  ...  2.736444  0.092065  0.285714\n",
              "2    21 days  2.540747e+11  504058.201068  ...  1.447998  0.076374  0.357143\n",
              "3    23 days  1.240705e+09   35223.642126  ...  0.161732  0.066094  0.428571\n",
              "4    25 days  1.617250e+09   40215.043868  ...  0.202469  0.066094  0.500000\n",
              "..       ...           ...            ...  ...       ...       ...       ...\n",
              "98  174 days  3.517292e+10  187544.442086  ...  0.555270  0.280607  0.071429\n",
              "99  175 days  2.455689e+09   49554.910861  ...  0.282787  0.257966  0.142857\n",
              "100 176 days  2.075191e+09   45554.266313  ...  0.241963  0.227265  0.214286\n",
              "101 178 days  1.695701e+10  130219.071357  ...  0.656764  0.182590  0.285714\n",
              "102 180 days  3.475594e+10  186429.444603  ...  0.985511  0.182590  0.285714\n",
              "\n",
              "[103 rows x 7 columns]"
            ]
          },
          "metadata": {
            "tags": []
          },
          "execution_count": 76
        }
      ]
    }
  ]
}